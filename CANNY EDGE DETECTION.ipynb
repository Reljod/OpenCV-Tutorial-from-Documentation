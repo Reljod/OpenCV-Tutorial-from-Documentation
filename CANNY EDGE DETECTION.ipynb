{
 "cells": [
  {
   "cell_type": "markdown",
   "metadata": {},
   "source": [
    "# Canny Edge Detection"
   ]
  },
  {
   "cell_type": "code",
   "execution_count": 1,
   "metadata": {},
   "outputs": [],
   "source": [
    "import numpy as np\n",
    "import cv2 as cv\n",
    "from matplotlib import pyplot as plt"
   ]
  },
  {
   "cell_type": "code",
   "execution_count": 2,
   "metadata": {},
   "outputs": [],
   "source": [
    "img = cv.imread('images/ReljodImg.jpg',0)\n",
    "edges = cv.Canny(img,100,200, apertureSize=5, L2gradient=False)\n",
    "edges1 = cv.Canny(img,100,200, apertureSize=5, L2gradient=True)\n",
    "#cv.imshow(\"Original Image\", img)\n",
    "#cv.imshow(\"Edge Detected Image\", edges)\n",
    "#cv.imshow(\"Edge Detected Image2\", edges1)\n",
    "#cv.waitKey(0)\n",
    "#cv.destroyAllWindows()"
   ]
  },
  {
   "cell_type": "code",
   "execution_count": 1,
   "metadata": {},
   "outputs": [
    {
     "data": {
      "text/plain": [
       "\"\\ndef nothing():\\n    pass\\n\\ncv.namedWindow('image')\\ncv.createTrackbar('Min_threshold','image',0,300,nothing)\\ncv.createTrackbar('Max_threshold','image',300,600,nothing)\\n\\nwhile(1):\\n    \\n    min_thresh = cv.getTrackbarPos('Min_threshold', 'image')\\n    max_thresh = cv.getTrackbarPos('Max_threshold', 'image')\\n    edges = cv.Canny(img, min_thresh, max_thresh, apertureSize=5, L2gradient=False)\\n    cv.imshow('image', edges)\\n    k = cv.waitKey(1) & 0xFF\\n    if k==27:\\n        break\\n\\n\\ncv.destroyAllWindows()\\n\""
      ]
     },
     "execution_count": 1,
     "metadata": {},
     "output_type": "execute_result"
    }
   ],
   "source": [
    "'''\n",
    "def nothing():\n",
    "    pass\n",
    "\n",
    "cv.namedWindow('image')\n",
    "cv.createTrackbar('Min_threshold','image',0,300,nothing)\n",
    "cv.createTrackbar('Max_threshold','image',300,600,nothing)\n",
    "\n",
    "while(1):\n",
    "    \n",
    "    min_thresh = cv.getTrackbarPos('Min_threshold', 'image')\n",
    "    max_thresh = cv.getTrackbarPos('Max_threshold', 'image')\n",
    "    edges = cv.Canny(img, min_thresh, max_thresh, apertureSize=5, L2gradient=False)\n",
    "    cv.imshow('image', edges)\n",
    "    k = cv.waitKey(1) & 0xFF\n",
    "    if k==27:\n",
    "        break\n",
    "\n",
    "\n",
    "cv.destroyAllWindows()\n",
    "'''"
   ]
  },
  {
   "cell_type": "code",
   "execution_count": null,
   "metadata": {},
   "outputs": [],
   "source": []
  }
 ],
 "metadata": {
  "kernelspec": {
   "display_name": "Python 3",
   "language": "python",
   "name": "python3"
  },
  "language_info": {
   "codemirror_mode": {
    "name": "ipython",
    "version": 3
   },
   "file_extension": ".py",
   "mimetype": "text/x-python",
   "name": "python",
   "nbconvert_exporter": "python",
   "pygments_lexer": "ipython3",
   "version": "3.6.7"
  }
 },
 "nbformat": 4,
 "nbformat_minor": 2
}
