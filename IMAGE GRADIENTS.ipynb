{
 "cells": [
  {
   "cell_type": "markdown",
   "metadata": {},
   "source": [
    "# Image Gradients"
   ]
  },
  {
   "cell_type": "markdown",
   "metadata": {},
   "source": [
    "### Goal\n",
    "In this chapter, we will learn to:\n",
    "\n",
    "Find Image gradients, edges etc\n",
    "We will see following functions : **cv.Sobel(), cv.Scharr(), cv.Laplacian()** etc\n",
    "Theory\n",
    "OpenCV provides three types of gradient filters or High-pass filters, Sobel, Scharr and Laplacian. We will see each one of them.\n",
    "\n",
    "1. **Sobel and Scharr Derivatives**<br>\n",
    "Sobel operators is a joint Gausssian smoothing plus differentiation operation, so it is more resistant to noise. You can specify the direction of derivatives to be taken, vertical or horizontal (by the arguments, yorder and xorder respectively). You can also specify the size of kernel by the argument ksize. If ksize = -1, a 3x3 Scharr filter is used which gives better results than 3x3 Sobel filter. Please see the docs for kernels used.\n",
    "\n",
    "2. **Laplacian Derivatives**<br>\n",
    "It calculates the Laplacian of the image given by the relation, Δsrc=∂2src∂x2+∂2src∂y2 where each derivative is found using Sobel derivatives. If ksize = 1, then following kernel is used for filtering:"
   ]
  },
  {
   "cell_type": "code",
   "execution_count": 2,
   "metadata": {},
   "outputs": [],
   "source": [
    "import numpy as np\n",
    "import cv2 as cv\n",
    "import matplotlib.pyplot as plt"
   ]
  },
  {
   "cell_type": "code",
   "execution_count": 5,
   "metadata": {},
   "outputs": [],
   "source": [
    "img = cv.imread(\"images/ReljodImg.jpg\", 0)"
   ]
  },
  {
   "cell_type": "code",
   "execution_count": 6,
   "metadata": {},
   "outputs": [],
   "source": [
    "laplacian = cv.Laplacian(img,cv.CV_64F)\n",
    "sobelx = cv.Sobel(img,cv.CV_64F,1,0,ksize=5)\n",
    "sobely = cv.Sobel(img,cv.CV_64F,0,1,ksize=5)\n",
    "plot = False\n",
    "if plot:\n",
    "    plt.subplot(2,2,1),plt.imshow(img,cmap = 'gray')\n",
    "    plt.title('Original'), plt.xticks([]), plt.yticks([])\n",
    "    plt.subplot(2,2,2),plt.imshow(laplacian,cmap = 'gray')\n",
    "    plt.title('Laplacian'), plt.xticks([]), plt.yticks([])\n",
    "    plt.subplot(2,2,3),plt.imshow(sobelx,cmap = 'gray')\n",
    "    plt.title('Sobel X'), plt.xticks([]), plt.yticks([])\n",
    "    plt.subplot(2,2,4),plt.imshow(sobely,cmap = 'gray')\n",
    "    plt.title('Sobel Y'), plt.xticks([]), plt.yticks([])\n",
    "    plt.show()\n",
    "else:\n",
    "    cv.imshow(\"Original\", img)\n",
    "    cv.imshow(\"Laplacian\", laplacian)\n",
    "    cv.imshow(\"SobelX\", sobelx)\n",
    "    cv.imshow(\"SobelY\", sobely)\n",
    "    cv.waitKey(0)\n",
    "    cv.destroyAllWindows()"
   ]
  },
  {
   "cell_type": "code",
   "execution_count": 10,
   "metadata": {},
   "outputs": [],
   "source": [
    "img = cv.imread(\"images/box.png\", 0)"
   ]
  },
  {
   "cell_type": "code",
   "execution_count": 11,
   "metadata": {},
   "outputs": [
    {
     "data": {
      "image/png": "[encoded data removed]",
      "text/plain": [
       "<Figure size 432x288 with 3 Axes>"
      ]
     },
     "metadata": {},
     "output_type": "display_data"
    }
   ],
   "source": [
    "# Output dtype = cv.CV_8U\n",
    "sobelx8u = cv.Sobel(img,cv.CV_8U,1,0,ksize=5)\n",
    "# Output dtype = cv.CV_64F. Then take its absolute and convert to cv.CV_8U\n",
    "sobelx64f = cv.Sobel(img,cv.CV_64F,1,0,ksize=5)\n",
    "abs_sobel64f = np.absolute(sobelx64f)\n",
    "sobel_8u = np.uint8(abs_sobel64f)\n",
    "plt.subplot(1,3,1),plt.imshow(img,cmap = 'gray')\n",
    "plt.title('Original'), plt.xticks([]), plt.yticks([])\n",
    "plt.subplot(1,3,2),plt.imshow(sobelx8u,cmap = 'gray')\n",
    "plt.title('Sobel CV_8U'), plt.xticks([]), plt.yticks([])\n",
    "plt.subplot(1,3,3),plt.imshow(sobel_8u,cmap = 'gray')\n",
    "plt.title('Sobel abs(CV_64F)'), plt.xticks([]), plt.yticks([])\n",
    "plt.show()"
   ]
  },
  {
   "cell_type": "code",
   "execution_count": null,
   "metadata": {},
   "outputs": [],
   "source": []
  }
 ],
 "metadata": {
  "kernelspec": {
   "display_name": "Python 3",
   "language": "python",
   "name": "python3"
  },
  "language_info": {
   "codemirror_mode": {
    "name": "ipython",
    "version": 3
   },
   "file_extension": ".py",
   "mimetype": "text/x-python",
   "name": "python",
   "nbconvert_exporter": "python",
   "pygments_lexer": "ipython3",
   "version": "3.6.7"
  }
 },
 "nbformat": 4,
 "nbformat_minor": 2
}
