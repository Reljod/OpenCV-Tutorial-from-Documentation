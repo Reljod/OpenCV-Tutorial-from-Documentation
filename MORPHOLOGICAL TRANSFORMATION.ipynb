{
 "cells": [
  {
   "cell_type": "markdown",
   "metadata": {},
   "source": [
    "# Morphological Transformation\n",
    "\n",
    "### Goal\n",
    "**In this chapter,**\n",
    "* We will learn different morphological operations like Erosion, Dilation, Opening, Closing etc.\n",
    "* We will see different functions like : cv.erode(), cv.dilate(), cv.morphologyEx() etc."
   ]
  },
  {
   "cell_type": "code",
   "execution_count": 2,
   "metadata": {},
   "outputs": [],
   "source": [
    "import numpy as np\n",
    "import cv2 as cv\n",
    "import matplotlib.pyplot as plt"
   ]
  },
  {
   "cell_type": "code",
   "execution_count": 9,
   "metadata": {},
   "outputs": [],
   "source": [
    "img = cv.imread(\"images/ReljodImg.jpg\", 0)\n",
    "img1 = cv.imread(\"images/dahyun.jpg\", 0)"
   ]
  },
  {
   "cell_type": "markdown",
   "metadata": {},
   "source": [
    "## 1. Erosion\n",
    "The basic idea of erosion is just like soil erosion only, it erodes away the boundaries of foreground object (Always try to keep foreground in white). So what it does? The kernel slides through the image (as in 2D convolution). A pixel in the original image (either 1 or 0) will be considered 1 only if all the pixels under the kernel is 1, otherwise it is eroded (made to zero).\n",
    "\n",
    "So what happends is that, all the pixels near boundary will be discarded depending upon the size of kernel. So the thickness or size of the foreground object decreases or simply white region decreases in the image. It is useful for removing small white noises (as we have seen in colorspace chapter), detach two connected objects etc."
   ]
  },
  {
   "cell_type": "code",
   "execution_count": 11,
   "metadata": {},
   "outputs": [],
   "source": [
    "kernel = np.ones((3,3),np.uint8)\n",
    "erosion = cv.erode(img,kernel,iterations = 1)\n",
    "erosion1 = cv.erode(img1,kernel,iterations = 1)\n",
    "cv.imshow(\"Original Image\", img)\n",
    "cv.imshow(\"Image Erosion\", erosion)\n",
    "cv.imshow(\"Original Dahyun\", img1)\n",
    "cv.imshow(\"Dahyun w/ Erosion\", erosion1)\n",
    "cv.waitKey(0)\n",
    "cv.destroyAllWindows()"
   ]
  },
  {
   "cell_type": "markdown",
   "metadata": {},
   "source": [
    "## 2. Dilation\n",
    "It is just opposite of erosion. Here, a pixel element is '1' if atleast one pixel under the kernel is '1'. So it increases the white region in the image or size of foreground object increases. Normally, in cases like noise removal, erosion is followed by dilation. Because, erosion removes white noises, but it also shrinks our object. So we dilate it. Since noise is gone, they won't come back, but our object area increases. It is also useful in joining broken parts of an object."
   ]
  },
  {
   "cell_type": "code",
   "execution_count": 14,
   "metadata": {},
   "outputs": [],
   "source": [
    "kernel = np.ones((3,3),np.uint8)\n",
    "dilation = cv.dilate(img,kernel,iterations = 1)\n",
    "dilation1 = cv.dilate(img1,kernel,iterations = 1)\n",
    "cv.imshow(\"Original Image\", img)\n",
    "cv.imshow(\"Image Dilation\", dilation)\n",
    "cv.imshow(\"Original Dahyun\", img1)\n",
    "cv.imshow(\"Dahyun w/ Dilation\", dilation1)\n",
    "cv.waitKey(0)\n",
    "cv.destroyAllWindows()"
   ]
  },
  {
   "cell_type": "markdown",
   "metadata": {},
   "source": [
    "## 3. Opening or Erosion then Dilation\n",
    "It is useful in removing noise"
   ]
  },
  {
   "cell_type": "code",
   "execution_count": 16,
   "metadata": {},
   "outputs": [],
   "source": [
    "opening = cv.morphologyEx(img1, cv.MORPH_OPEN, kernel)\n",
    "cv.imshow(\"Original Image\", img1)\n",
    "cv.imshow(\"Enhanced Image using Opening\", opening)\n",
    "cv.waitKey(0)\n",
    "cv.destroyAllWindows()"
   ]
  },
  {
   "cell_type": "markdown",
   "metadata": {},
   "source": [
    "## 4. Closing or Dilation then Erosion\n",
    "It is useful in closing small holes inside the foreground objects, or small black points on the object."
   ]
  },
  {
   "cell_type": "code",
   "execution_count": 17,
   "metadata": {},
   "outputs": [],
   "source": [
    "closing = cv.morphologyEx(img1, cv.MORPH_CLOSE, kernel)\n",
    "cv.imshow(\"Original Image\", img1)\n",
    "cv.imshow(\"Enhanced Image using Closing\", closing)\n",
    "cv.waitKey(0)\n",
    "cv.destroyAllWindows()"
   ]
  },
  {
   "cell_type": "markdown",
   "metadata": {},
   "source": [
    "## 5. Morphological Gradient\n",
    "It is the difference between dilation and erosion of an image.\n",
    "\n",
    "The result will look like the outline of the object."
   ]
  },
  {
   "cell_type": "code",
   "execution_count": 19,
   "metadata": {},
   "outputs": [],
   "source": [
    "gradient = cv.morphologyEx(img1, cv.MORPH_GRADIENT, kernel)\n",
    "cv.imshow(\"Original Image\", img1)\n",
    "cv.imshow(\"Enhanced Image using Morphological Gradient\", gradient)\n",
    "cv.waitKey(0)\n",
    "cv.destroyAllWindows()"
   ]
  },
  {
   "cell_type": "markdown",
   "metadata": {},
   "source": [
    "## 6. Top hat\n",
    "It is the difference between input image and Opening of the image. Below example is done for a 9x9 kernel."
   ]
  },
  {
   "cell_type": "code",
   "execution_count": 25,
   "metadata": {},
   "outputs": [],
   "source": [
    "kernel = np.ones((9,9),np.uint8)\n",
    "tophat = cv.morphologyEx(img1, cv.MORPH_TOPHAT, kernel)\n",
    "cv.imshow(\"Original Image\", img1)\n",
    "cv.imshow(\"Enhanced Image using Top hat\", tophat)\n",
    "cv.waitKey(0)\n",
    "cv.destroyAllWindows()"
   ]
  },
  {
   "cell_type": "markdown",
   "metadata": {},
   "source": [
    "## 7. Black hat\n",
    "It is the difference between the closing of the input image and input image."
   ]
  },
  {
   "cell_type": "code",
   "execution_count": 27,
   "metadata": {},
   "outputs": [],
   "source": [
    "blackhat = cv.morphologyEx(img1, cv.MORPH_BLACKHAT, kernel)\n",
    "cv.imshow(\"Original Image\", img1)\n",
    "cv.imshow(\"Enhanced Image using Black hat\", blackhat)\n",
    "cv.waitKey(0)\n",
    "cv.destroyAllWindows()"
   ]
  },
  {
   "cell_type": "markdown",
   "metadata": {},
   "source": [
    "## Compare Top hat and Black hat"
   ]
  },
  {
   "cell_type": "code",
   "execution_count": 29,
   "metadata": {},
   "outputs": [],
   "source": [
    "cv.imshow(\"Enhanced Image using Top hat\", tophat)\n",
    "cv.imshow(\"Enhanced Image using Black hat\", blackhat)\n",
    "cv.waitKey(0)\n",
    "cv.destroyAllWindows()"
   ]
  },
  {
   "cell_type": "markdown",
   "metadata": {},
   "source": [
    "## Structuring Elements\n",
    "We manually created a structuring elements in the previous examples with help of Numpy. It is rectangular shape. But in some cases, you may need elliptical/circular shaped kernels. So for this purpose, OpenCV has a function, cv.getStructuringElement(). You just pass the shape and size of the kernel, you get the desired kernel."
   ]
  },
  {
   "cell_type": "code",
   "execution_count": 35,
   "metadata": {},
   "outputs": [
    {
     "name": "stdout",
     "output_type": "stream",
     "text": [
      "['MORPH_BLACKHAT', 'MORPH_CLOSE', 'MORPH_CROSS', 'MORPH_DILATE', 'MORPH_ELLIPSE', 'MORPH_ERODE', 'MORPH_GRADIENT', 'MORPH_HITMISS', 'MORPH_OPEN', 'MORPH_RECT', 'MORPH_TOPHAT']\n"
     ]
    }
   ],
   "source": [
    "rect_kernel = cv.getStructuringElement(cv.MORPH_RECT,(5,5))\n",
    "ellip_kernel = cv.getStructuringElement(cv.MORPH_ELLIPSE,(5,5))\n",
    "cross_kernel = cv.getStructuringElement(cv.MORPH_CROSS,(5,5))\n",
    "\n",
    "print([i for i in dir(cv) if i.startswith(\"MORPH_\")])"
   ]
  },
  {
   "cell_type": "code",
   "execution_count": null,
   "metadata": {},
   "outputs": [],
   "source": []
  }
 ],
 "metadata": {
  "kernelspec": {
   "display_name": "Python 3",
   "language": "python",
   "name": "python3"
  },
  "language_info": {
   "codemirror_mode": {
    "name": "ipython",
    "version": 3
   },
   "file_extension": ".py",
   "mimetype": "text/x-python",
   "name": "python",
   "nbconvert_exporter": "python",
   "pygments_lexer": "ipython3",
   "version": "3.6.7"
  }
 },
 "nbformat": 4,
 "nbformat_minor": 2
}
